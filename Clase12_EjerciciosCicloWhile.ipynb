{
 "cells": [
  {
   "cell_type": "markdown",
   "metadata": {},
   "source": [
    "# Pensamiento Algorítmico\n",
    "\n",
    "## Taller: Ciclo While\n",
    "\n",
    "Resuelva cada uno de los ejercicios siguientes en la casilla correspondiente\n",
    "\n",
    "---"
   ]
  },
  {
   "cell_type": "markdown",
   "metadata": {},
   "source": [
    "Nombre completo:\n",
    "Documento:"
   ]
  },
  {
   "cell_type": "markdown",
   "metadata": {},
   "source": [
    "### Ejercicio 1\n",
    "\n",
    "Elabore un programa que muestre los números del 1 al 20. Para este ejercicio utilice el ciclo **while**."
   ]
  },
  {
   "cell_type": "code",
   "execution_count": 4,
   "metadata": {},
   "outputs": [
    {
     "name": "stdout",
     "output_type": "stream",
     "text": [
      "1\n",
      "2\n",
      "3\n",
      "4\n",
      "5\n",
      "6\n",
      "7\n",
      "8\n",
      "9\n",
      "10\n",
      "11\n",
      "12\n",
      "13\n",
      "14\n",
      "15\n",
      "16\n",
      "17\n",
      "18\n",
      "19\n",
      "20\n"
     ]
    }
   ],
   "source": [
    "Numero=0\n",
    "while True:\n",
    "    Numero=Numero+1\n",
    "    print(Numero)\n",
    "    if Numero==20:\n",
    "        break"
   ]
  },
  {
   "cell_type": "markdown",
   "metadata": {},
   "source": [
    "### Ejercicio 2\n",
    "\n",
    "Elabore un programa que muestre únicamente los números pares entre el 1 y el 100. Para este ejercicio utilice el ciclo **while**."
   ]
  },
  {
   "cell_type": "code",
   "execution_count": 4,
   "metadata": {},
   "outputs": [
    {
     "name": "stdout",
     "output_type": "stream",
     "text": [
      "2\n",
      "4\n",
      "6\n",
      "8\n",
      "10\n",
      "12\n",
      "14\n",
      "16\n",
      "18\n",
      "20\n",
      "22\n",
      "24\n",
      "26\n",
      "28\n",
      "30\n",
      "32\n",
      "34\n",
      "36\n",
      "38\n",
      "40\n",
      "42\n",
      "44\n",
      "46\n",
      "48\n",
      "50\n",
      "52\n",
      "54\n",
      "56\n",
      "58\n",
      "60\n",
      "62\n",
      "64\n",
      "66\n",
      "68\n",
      "70\n",
      "72\n",
      "74\n",
      "76\n",
      "78\n",
      "80\n",
      "82\n",
      "84\n",
      "86\n",
      "88\n",
      "90\n",
      "92\n",
      "94\n",
      "96\n",
      "98\n",
      "100\n"
     ]
    }
   ],
   "source": [
    "Numero=0\n",
    "while True:\n",
    "    Numero=Numero+2\n",
    "    if Numero==102:\n",
    "        break\n",
    "    print(Numero)"
   ]
  },
  {
   "cell_type": "markdown",
   "metadata": {},
   "source": [
    "### Ejercicio 3\n",
    "\n",
    "Elabore un programa que lea indefinidamente un nombre y genere un saludo junto con el número correspondiente a su orden de ingreso. Finalice el programa cuando el usuario ingrese la palabra ***stop***"
   ]
  },
  {
   "cell_type": "code",
   "execution_count": 2,
   "metadata": {},
   "outputs": [
    {
     "name": "stdout",
     "output_type": "stream",
     "text": [
      "Ingrese su nombre: miguel\n",
      "hola miguel\n",
      "Ingrese su nombre: sebas\n",
      "hola sebas\n",
      "Ingrese su nombre: stop\n",
      "hola stop\n"
     ]
    }
   ],
   "source": [
    "while True:\n",
    "    Nombre=input(\"Ingrese su nombre: \")\n",
    "    print(\"hola\", Nombre)\n",
    "    if Nombre== \"stop\":\n",
    "        break"
   ]
  },
  {
   "cell_type": "markdown",
   "metadata": {},
   "source": [
    "### Ejercicio 4\n",
    "\n",
    "Un restaurante desea generar facturas para sus clientes. Elabore un algoritmo que lea el nombre y precio de cada platillo. Luego que pregunte si desea agregar otro platillo. Una vez el usuario haya terminado de agregar platillos a la factura, pregunte si desea adicionar el valor del servicio. En caso de adicionar el servicio, lea el porcentaje a adicionar. Al final muestre el total a pagar."
   ]
  },
  {
   "cell_type": "code",
   "execution_count": 5,
   "metadata": {},
   "outputs": [
    {
     "name": "stdout",
     "output_type": "stream",
     "text": [
      "Ingrese el nombre del platillo: a\n",
      "Ingrese el precio del platillo: 1\n",
      "¿Desea agregar otro platillo? si\n",
      "Ingrese el nombre del platillo: b\n",
      "Ingrese el precio del platillo: 2\n",
      "¿Desea agregar otro platillo? no\n",
      "El total a pagar será:  3\n"
     ]
    }
   ],
   "source": [
    "precio=0\n",
    "while True:\n",
    "    Nombrep=input(\"Ingrese el nombre del platillo: \")\n",
    "    preciop=int(input(\"Ingrese el precio del platillo: \"))\n",
    "    plusplatillo=input(\"¿Desea agregar otro platillo? \")\n",
    "    precio= precio+ preciop\n",
    "    if plusplatillo== \"no\":\n",
    "        break\n",
    "print(\"El total a pagar será: \", precio)"
   ]
  },
  {
   "cell_type": "markdown",
   "metadata": {},
   "source": [
    "### Ejercicio 5\n",
    "\n",
    "Crear un programa que permita al usuario ingresar los montos de las compras de un cliente por cada artículo hasta que el usuario ingrese 0. Si ingresa un monto negativo, no se debe procesar y se debe pedir que ingrese un nuevo monto. Al finalizar, informar el total a pagar teniendo que cuenta que, si las ventas superan el total de $1000 USD, se le debe aplicar un 10% de descuento."
   ]
  },
  {
   "cell_type": "code",
   "execution_count": 16,
   "metadata": {},
   "outputs": [
    {
     "name": "stdout",
     "output_type": "stream",
     "text": [
      "Ingrese el precio del artículo: 900\n",
      "Ingrese el precio del artículo: 0\n",
      "El total a pagar será:  900\n"
     ]
    }
   ],
   "source": [
    "total=0\n",
    "des=0\n",
    "while True:\n",
    "    article_price=int(input(\"Ingrese el precio del artículo: \"))\n",
    "    if article_price== 0:\n",
    "        break\n",
    "    if article_price <0:\n",
    "        print(\"Ingrese un nuevo monto.\")\n",
    "        continue\n",
    "    total= total+ article_price\n",
    "    if total>1000:\n",
    "        des= total*0.10\n",
    "print(\"El total a pagar será: \", total-des)"
   ]
  },
  {
   "cell_type": "markdown",
   "metadata": {},
   "source": [
    "### Ejercicio 6\n",
    "\n",
    "Cree un programa que muestre mensaje de bienvenida seguido de un menú principal:\n",
    "\n",
    "* 1 - Realizar suma\n",
    "* 2 - Realizar resta\n",
    "* 3 - Realizar multiplicación\n",
    "* 4 - Realizar división\n",
    "* 5 - Salir\n",
    "\n",
    "Una vez el usuario seleccione una opción, lea dos números y realice la operación seleccionada para luego volver al menú principal. Si el usuario elige la opción *5 - Salir*, muestre un mensaje de despedida y finalice el programa. Debe validar que la opción seleccionada sea correcta."
   ]
  },
  {
   "cell_type": "code",
   "execution_count": 18,
   "metadata": {},
   "outputs": [
    {
     "name": "stdout",
     "output_type": "stream",
     "text": [
      "Bienvenido\n",
      "Seleccione una de las opciones: 1 - Realizar suma, 2 - Realizar resta, 3 - Realizar multiplicación, 4 - Realizar división, 5 - Salir\n",
      "Ingrese una de las opciones: 1\n",
      "Ingrese el primer número: 3\n",
      "Ingrese el segundo número: 4\n",
      "La suma es:  7.0\n",
      "Bienvenido\n",
      "Seleccione una de las opciones: 1 - Realizar suma, 2 - Realizar resta, 3 - Realizar multiplicación, 4 - Realizar división, 5 - Salir\n",
      "Ingrese una de las opciones: 2\n",
      "Ingrese el primer número: 3\n",
      "Ingrese el segundo número: 4\n",
      "La resta es:  -1.0\n",
      "Bienvenido\n",
      "Seleccione una de las opciones: 1 - Realizar suma, 2 - Realizar resta, 3 - Realizar multiplicación, 4 - Realizar división, 5 - Salir\n",
      "Ingrese una de las opciones: 3\n",
      "Ingrese el primer número: 4\n",
      "Ingrese el segundo número: 7\n",
      "La multiplicación es:  28.0\n",
      "Bienvenido\n",
      "Seleccione una de las opciones: 1 - Realizar suma, 2 - Realizar resta, 3 - Realizar multiplicación, 4 - Realizar división, 5 - Salir\n",
      "Ingrese una de las opciones: 4\n",
      "Ingrese el primer número: 10\n",
      "Ingrese el segundo número: 5\n",
      "La división es:  2.0\n",
      "Bienvenido\n",
      "Seleccione una de las opciones: 1 - Realizar suma, 2 - Realizar resta, 3 - Realizar multiplicación, 4 - Realizar división, 5 - Salir\n",
      "Ingrese una de las opciones: 5\n",
      "Hasta pronto.\n"
     ]
    }
   ],
   "source": [
    "while True:\n",
    "    print(\"Bienvenido\")\n",
    "    print(\"Seleccione una de las opciones: 1 - Realizar suma, 2 - Realizar resta, 3 - Realizar multiplicación, 4 - Realizar división, 5 - Salir\")\n",
    "    opcion=int(input(\"Ingrese una de las opciones: \"))\n",
    "    if opcion== 1:\n",
    "        num1=float(input(\"Ingrese el primer número: \"))\n",
    "        num2=float(input(\"Ingrese el segundo número: \"))\n",
    "        print(\"La suma es: \", num1+num2)\n",
    "    if opcion== 2:\n",
    "        num1=float(input(\"Ingrese el primer número: \"))\n",
    "        num2=float(input(\"Ingrese el segundo número: \"))\n",
    "        print(\"La resta es: \", num1-num2)\n",
    "    if opcion== 3:\n",
    "        num1=float(input(\"Ingrese el primer número: \"))\n",
    "        num2=float(input(\"Ingrese el segundo número: \"))\n",
    "        print(\"La multiplicación es: \", num1*num2)\n",
    "    if opcion== 4:\n",
    "        num1=float(input(\"Ingrese el primer número: \"))\n",
    "        num2=float(input(\"Ingrese el segundo número: \"))\n",
    "        print(\"La división es: \", num1/num2)\n",
    "    if opcion== 5:\n",
    "        print(\"Hasta pronto.\")\n",
    "        break\n",
    "        "
   ]
  },
  {
   "cell_type": "code",
   "execution_count": null,
   "metadata": {},
   "outputs": [],
   "source": []
  }
 ],
 "metadata": {
  "kernelspec": {
   "display_name": "Python 3 (ipykernel)",
   "language": "python",
   "name": "python3"
  },
  "language_info": {
   "codemirror_mode": {
    "name": "ipython",
    "version": 3
   },
   "file_extension": ".py",
   "mimetype": "text/x-python",
   "name": "python",
   "nbconvert_exporter": "python",
   "pygments_lexer": "ipython3",
   "version": "3.9.12"
  }
 },
 "nbformat": 4,
 "nbformat_minor": 4
}

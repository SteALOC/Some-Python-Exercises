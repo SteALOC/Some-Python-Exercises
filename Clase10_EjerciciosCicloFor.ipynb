{
 "cells": [
  {
   "cell_type": "markdown",
   "metadata": {},
   "source": [
    "# Pensamiento Algorítmico\n",
    "\n",
    "## Taller\n",
    "\n",
    "Resuelva cada uno de los ejercicios en la casilla correspondiente.\n",
    "\n",
    "---"
   ]
  },
  {
   "cell_type": "markdown",
   "metadata": {},
   "source": [
    "Nombre:\n",
    "Documento:"
   ]
  },
  {
   "cell_type": "markdown",
   "metadata": {},
   "source": [
    "---\n",
    "\n",
    "### Ejercicio 1\n",
    "\n",
    "Elabore un programa que muestre como resultado los números del 1 al 20"
   ]
  },
  {
   "cell_type": "code",
   "execution_count": null,
   "metadata": {},
   "outputs": [],
   "source": [
    "number=0\n",
    "for i in range (20):\n",
    "    number=number+1\n",
    "    print (number)"
   ]
  },
  {
   "cell_type": "markdown",
   "metadata": {},
   "source": [
    "### Ejercicio 2\n",
    "\n",
    "Elabore un programa que muestre como resultado los números del 1 al 20 junto con su valor doble y triple"
   ]
  },
  {
   "cell_type": "code",
   "execution_count": null,
   "metadata": {},
   "outputs": [],
   "source": [
    "number=0\n",
    "for i in range (20):\n",
    "    number=number+1 \n",
    "    print (number,number*2,number*3)"
   ]
  },
  {
   "cell_type": "markdown",
   "metadata": {},
   "source": [
    "### Ejercicio 3\n",
    "\n",
    "Elabore un programa que muestre los numeros pares entre el 1 y el 100"
   ]
  },
  {
   "cell_type": "code",
   "execution_count": null,
   "metadata": {},
   "outputs": [],
   "source": [
    "number=0\n",
    "for i in range(50):\n",
    "    number= number+1\n",
    "    print (number*2)"
   ]
  },
  {
   "cell_type": "markdown",
   "metadata": {},
   "source": [
    "### Ejercicio 4\n",
    "\n",
    "Elabore un programa lea un número entero positivo. Luego calcule la suma de todos los números desde 1 hasta el número introducido."
   ]
  },
  {
   "cell_type": "code",
   "execution_count": null,
   "metadata": {},
   "outputs": [],
   "source": [
    "numbers = int(input())\n",
    "suma = 1\n",
    "numeros = 1\n",
    "for i in range(numbers):\n",
    "    if numbers > suma:\n",
    "        numeros = numeros + 1\n",
    "        print(suma)\n",
    "        suma = suma + numeros"
   ]
  },
  {
   "cell_type": "markdown",
   "metadata": {},
   "source": [
    "### Ejercicio 5\n",
    "\n",
    "Usted requiere calcular la nota promedio obtenida por un grupo de alumnos en un examen, cuya calificación es de 0 a 5 y requiere 3.0 o más para aprobar. Elabore un programa que lea la cantidad de alumnos que presentaron el examen y seguido ingrese cada una de las notas de los estudiantes. Al final muestre la nota promedio del examen."
   ]
  },
  {
   "cell_type": "code",
   "execution_count": null,
   "metadata": {},
   "outputs": [],
   "source": [
    "cant_alum= int(input(\"ingrese la cantidad de estudiantes: \"))\n",
    "total_notas=0\n",
    "for i in range(cant_alum):\n",
    "    nota_alum= float(input(\"ingrese la nota del estudiante: \"))\n",
    "    if nota_alum>5 and nota_alum<0:\n",
    "        continue\n",
    "    total_notas=total_notas+nota_alum\n",
    "    print(total_notas)\n",
    "print (total_notas/cant_alum)"
   ]
  },
  {
   "cell_type": "markdown",
   "metadata": {},
   "source": [
    "### Ejercicio 6\n",
    "\n",
    "Modifique el ejercicio 5 y, adicional a la nota promedio, muestre:\n",
    "* Cantidad de alumnos que ganaron el examen\n",
    "* Cantidad de alumnos que perdieron el examen\n",
    "* Mejor nota\n",
    "* Peor nota"
   ]
  },
  {
   "cell_type": "code",
   "execution_count": null,
   "metadata": {},
   "outputs": [],
   "source": [
    "cant_alum= int(input(\"ingrese la cantidad de estudiantes: \"))\n",
    "total_notas=0\n",
    "mayor=0\n",
    "menor=875675756\n",
    "g=0\n",
    "p=0\n",
    "for i in range(cant_alum):\n",
    "    nota_alum= float(input(\"ingrese la nota del estudiante: \"))\n",
    "    if nota_alum>5 or nota_alum<0:\n",
    "        continue\n",
    "    total_notas=total_notas+nota_alum\n",
    "    if mayor<nota_alum:\n",
    "        mayor=nota_alum\n",
    "    if menor>nota_alum:\n",
    "        menor=nota_alum\n",
    "    if nota_alum>=3:\n",
    "        g +=1\n",
    "    if nota_alum<3:\n",
    "        p +=1\n",
    "print(\"la cantidad de alumnos que perdieron el examen es: \",p)\n",
    "print(\"la cantidad de alumnos que ganaron el examen es: \",g)    \n",
    "print(\"El numero menor es: \",menor)\n",
    "print(\"El numero mayor es: \",mayor)\n",
    "print(\"la sumatoria total de las notas es: \",total_notas)\n",
    "print(\"el promedio del grupo es: \",total_notas/cant_alum)"
   ]
  },
  {
   "cell_type": "markdown",
   "metadata": {},
   "source": [
    "### Ejercicio 7\n",
    "\n",
    "La Tienda Militar Ora posee un sistema de fidelidad que otorga descuento a sus clientes así:\n",
    "\n",
    "* NA: No aplica fidelidad\n",
    "* Iron: 4% de descuento para compras de más de 5 artículos, de lo contrario 2%\n",
    "* Gold: 6% de descuento para compras de más de 3 artículos, de lo contrario 3%\n",
    "* Diamond: 10% de descuento para todas las compras\n",
    "\n",
    "Adicional, ofrece descuentos del 5% para personas de la tercera edad (mayores a 65 años) y un 3% de descuento para hombres mayores de 30 años que se encuentren en la Armada Nacional. Todos estos descuentos son acumulables. Existen artículos a los cuales no se les puede aplicar el descuento.\n",
    "\n",
    "Elabore un algoritmo que lea los datos del cliente (Nombre, Edad, Género, Ocupación, Fidelidad), junto con la cantidad de artículos que va a llevar. Luego lea el nombre, el precio y si el artículo aplica para descuento. Al final, muestre el total bruto, el total a pagar y el monto descontado."
   ]
  },
  {
   "cell_type": "code",
   "execution_count": null,
   "metadata": {},
   "outputs": [],
   "source": [
    "input(\"Ingrese su nombre: \")\n",
    "Edad= int(input(\"Ingrese su edad: \"))\n",
    "genero= str(input(\"Ingrese su genero: Masculino o Femenino \"))\n",
    "ocu= str(input(\"Ingrese su ocupación: \"))\n",
    "acum=0\n",
    "txt= \" \"\n",
    "des_i=0.04\n",
    "des_g=0.06\n",
    "des_d=0.10\n",
    "des_e=0.05\n",
    "desg=0.03\n",
    "print (\"Defina su nivel de fidelidad en numeros\")\n",
    "print (\"Nivel 1= NA\")\n",
    "print (\"Nivel 2= 4% de descuento para compras de más de 5 artículos, de lo contrario 2%\")\n",
    "print (\"Nivel 3= 6% de descuento para compras de más de 3 artículos, de lo contrario 3%\")\n",
    "print (\"Nivel 4= 10% de descuento para todas las compras\")\n",
    "fidelidad= int(input(\"Ingrese su nivel de fidelidad: \"))\n",
    "if fidelidad==1:\n",
    "        print(\"Su nivel de fidelidad es: NA, No obtendrá ningún descuento\")\n",
    "elif fidelidad==2:\n",
    "        print(\"Su nivel de fidelidad es: Iron: 4% de descuento para compras de más de 5 artículos, de lo contrario 2%\")\n",
    "elif fidelidad==3:\n",
    "        print(\"Su nivel de fidelidad es: Gold: 6% de descuento para compras de más de 3 artículos, de lo contrario 3%\")\n",
    "elif fidelidad==4:\n",
    "        print(\"Su nivel de fidelidad es: Diamond: 10% de descuento para todas las compras\")\n",
    "cant_art=int(input(\"Ingrese la cantidad de artículos: \"))\n",
    "if cant_art<5:\n",
    "    des_i= 0.02\n",
    "elif cant_art<3:\n",
    "    des_g= 0.03\n",
    "if Edad<65:\n",
    "    des_e=0\n",
    "if genero==\"Masculino\" and Edad>30 and ocu==\"Militar\":\n",
    "    desg=0.03\n",
    "else: \n",
    "    desg=0\n",
    "if fidelidad==1:\n",
    "    for i in range (cant_art):\n",
    "        art=str(input(\"ingrese el nombre del artículo: \"))\n",
    "        p_art=float(input(\"ingrese el precio del artículo: \"))\n",
    "        acum=acum+p_art\n",
    "        txt = art + \", \" + txt\n",
    "    print(\"Los artículos a llevar son\",txt,\"La suma de los artículos es: \", acum)\n",
    "    print(\"Debido a que su nivel de fidelidad es NA, su monto a pagar es: \", acum, \"El total bruto es: \", acum, \"Y el monto descontado será 0\")\n",
    "elif fidelidad==2:\n",
    "        for i in range (cant_art):\n",
    "            art=str(input(\"ingrese el nombre del artículo: \"))\n",
    "            p_art=float(input(\"ingrese el precio del artículo: \"))\n",
    "            acum=acum+p_art\n",
    "            txt = art + \", \" + txt\n",
    "            des=acum*des_i\n",
    "            des_E=acum*des_e\n",
    "            des_c=acum*desg\n",
    "        print(\"Los artículos a llevar son\",txt,\"La suma de los artículos es: \", acum)\n",
    "        print(\"Debido a que su nivel de fidelidad es 2, su monto a pagar es: \", acum-des-des_E-des_c, \"El total bruto es: \", acum, \"Su descuento es de \", des+des_E+des_c)\n",
    "elif fidelidad==3:\n",
    "        for i in range (cant_art):\n",
    "            art=str(input(\"ingrese el nombre del artículo: \"))\n",
    "            p_art=float(input(\"ingrese el precio del artículo: \"))\n",
    "            acum=acum+p_art\n",
    "            txt = art + \", \" + txt\n",
    "            des=acum*des_g\n",
    "            des_E=acum*des_e\n",
    "            des_c=acum*desg\n",
    "        print(\"Los artículos a llevar son\",txt,\"La suma de los artículos es: \", acum)\n",
    "        print(\"Debido a que su nivel de fidelidad es 3, su monto a pagar es: \", acum-des-des_E-des_c, \"El total bruto es: \", acum, \"Su descuento es de \", des+des_E+des_c)\n",
    "elif fidelidad==4:\n",
    "        for i in range (cant_art):\n",
    "            art=str(input(\"ingrese el nombre del artículo: \"))\n",
    "            p_art=float(input(\"ingrese el precio del artículo: \"))\n",
    "            acum=acum+p_art\n",
    "            txt = art + \", \" + txt\n",
    "            des=acum*des_d\n",
    "            des_E=acum*des_e\n",
    "            des_c=acum*desg\n",
    "        print(\"Los artículos a llevar son\",txt,\"La suma de los artículos es: \", acum)\n",
    "        print(\"Debido a que su nivel de fidelidad es 3, su monto a pagar es: \", acum-des-des_E-des_c, \"El total bruto es: \", acum, \"Su descuento es de \", des+des_E+des_c)"
   ]
  },
  {
   "cell_type": "markdown",
   "metadata": {},
   "source": [
    "### Ejercicio 8\n",
    "\n",
    "La agencia inmobiliaria AirRent ofrece alquiler de inmuebles vacacionales por días y requiere generar un informe, para el propietario de un inmueble a su cargo, de los valores pagados durante un año. Dependiendo de la candidad de días arrendados por mes, se genera un recargo:\n",
    "\n",
    "* Si un inmueble se arrienda más de 10 días al mes, se paga un recargo adicional del 10%\n",
    "* Si el inmueble se arrienda más de 20 días al mes, se paga un recargo adicional del 15%\n",
    "* De lo contrario, no se paga recargo\n",
    "\n",
    "Elabore un programa que lea el año para el cual se genera el reporte. Luego muestre cada uno de los meses del año y lea la cantidad de días que estuvo arrendado y el valor por día para ese mes. Al final, muestre:\n",
    "\n",
    "* Total pagado\n",
    "* Valor pagado por concepto de recargos\n",
    "* Mes con mayor cantidad de días arrendado\n",
    "* Mes con mayor ingreso\n",
    "* Mes con menor cantidad de días arrendado\n",
    "* Mes con menor ingreso"
   ]
  },
  {
   "cell_type": "code",
   "execution_count": 1,
   "metadata": {},
   "outputs": [
    {
     "name": "stdout",
     "output_type": "stream",
     "text": [
      "¿El año para el cual se genera este reporte es?: 2022\n",
      "Enero\n",
      "¿Precio del arrendamiento por días?: 1\n",
      "¿Cuántos días se arrendó el inmueble?: 2\n",
      "El valor adquirido ese mes fue de:  2.0\n",
      "El total actualmente es de: 2.0\n",
      "Febrero\n",
      "¿Precio del arrendamiento por días?: 3\n",
      "¿Cuántos días se arrendó el inmueble?: 4\n",
      "El valor adquirido ese mes fue de:  12.0\n",
      "El total actualmente es de: 14.0\n",
      "Marzo\n",
      "¿Precio del arrendamiento por días?: 5\n",
      "¿Cuántos días se arrendó el inmueble?: 6\n",
      "El valor adquirido ese mes fue de:  30.0\n",
      "El total actualmente es de: 44.0\n",
      "Abril\n",
      "¿Precio del arrendamiento por días?: 7\n",
      "¿Cuántos días se arrendó el inmueble?: 8\n",
      "El valor adquirido ese mes fue de:  56.0\n",
      "El total actualmente es de: 100.0\n",
      "Mayo\n",
      "¿Precio del arrendamiento por días?: 9\n",
      "¿Cuántos días se arrendó el inmueble?: 10\n",
      "El valor adquirido ese mes fue de:  90.0\n",
      "El total actualmente es de: 190.0\n",
      "Junio\n",
      "¿Precio del arrendamiento por días?: 11\n",
      "¿Cuántos días se arrendó el inmueble?: 12\n",
      "El valor adquirido ese mes fue de:  145.2\n",
      "El total actualmente es de: 335.2\n",
      "Julio\n",
      "¿Precio del arrendamiento por días?: 13\n",
      "¿Cuántos días se arrendó el inmueble?: 14\n",
      "El valor adquirido ese mes fue de:  200.2\n",
      "El total actualmente es de: 535.4\n",
      "Agosto\n",
      "¿Precio del arrendamiento por días?: 15\n",
      "¿Cuántos días se arrendó el inmueble?: 16\n",
      "El valor adquirido ese mes fue de:  264.0\n",
      "El total actualmente es de: 799.4\n",
      "Septiembre\n",
      "¿Precio del arrendamiento por días?: 17\n",
      "¿Cuántos días se arrendó el inmueble?: 18\n",
      "El valor adquirido ese mes fue de:  336.6\n",
      "El total actualmente es de: 1136.0\n",
      "Octubre\n",
      "¿Precio del arrendamiento por días?: 19\n",
      "¿Cuántos días se arrendó el inmueble?: 20\n",
      "El valor adquirido ese mes fue de:  410.6\n",
      "El total actualmente es de: 1546.6\n",
      "Noviembre\n",
      "¿Precio del arrendamiento por días?: 21\n",
      "¿Cuántos días se arrendó el inmueble?: 22\n",
      "El valor adquirido ese mes fue de:  531.3\n",
      "El total actualmente es de: 2077.8999999999996\n",
      "Diciembre\n",
      "¿Precio del arrendamiento por días?: 23\n",
      "¿Cuántos días se arrendó el inmueble?: 24\n",
      "El valor adquirido ese mes fue de:  634.8\n",
      "El total actualmente es de: 2712.7\n",
      "El total pagado en recargos fue de:  268.7\n",
      "El mes con menor cantidad de días arrendado fue:  Enero 2\n",
      "El mes con mayor cantidad de días arrendado fue:  Diciembre 24\n",
      "El mes de menos ingresos fue:  Enero 2.0\n",
      "El mes del mayores ingresos fue:  Diciembre 634.8\n",
      "El total es de:  2712.7\n"
     ]
    }
   ],
   "source": [
    "Mesmenoringreso=\"\"\n",
    "Mesmayoringreso=\"\"\n",
    "Mesmenordias=\"\"\n",
    "Mesmayordias=\"\"\n",
    "Crecargo=0\n",
    "Mydias=0\n",
    "Mndias=1231323\n",
    "Mayormes=0\n",
    "Menormes=23123\n",
    "recargos=0\n",
    "total=0\n",
    "año = int(input(\"¿El año para el cual se genera este reporte es?: \"))\n",
    "meses = [\"Enero\",\"Febrero\",\"Marzo\",\"Abril\",\"Mayo\",\"Junio\",\"Julio\",\"Agosto\",\"Septiembre\",\"Octubre\",\"Noviembre\",\"Diciembre\"]\n",
    "for i in range(len(meses)):\n",
    "    print (meses[i])\n",
    "    precio = float(input(\"¿Precio del arrendamiento por días?: \"))\n",
    "    dias= int(input(\"¿Cuántos días se arrendó el inmueble?: \"))\n",
    "    sinrecargo = precio*dias\n",
    "    if dias > 10 and dias < 20:\n",
    "        recargos= sinrecargo*0.10\n",
    "    elif dias > 20:\n",
    "        recargos= sinrecargo*0.15\n",
    "    Crecargo= Crecargo + recargos\n",
    "    totalmes= sinrecargo + recargos\n",
    "    print(\"El valor adquirido ese mes fue de: \", totalmes)\n",
    "    total= total + totalmes\n",
    "    print(\"El total actualmente es de:\", total)\n",
    "    if totalmes > Mayormes:\n",
    "        Mayormes= totalmes\n",
    "        Mesmayoringreso= meses[i]\n",
    "    if Menormes > totalmes:\n",
    "        Menormes= totalmes\n",
    "        Mesmenoringreso= meses[i]\n",
    "    if dias > Mydias:\n",
    "        Mydias= dias\n",
    "        Mesmayordias= meses[i]\n",
    "    if dias < Mndias:\n",
    "        Mndias= dias\n",
    "        Mesmayordias= meses[i]\n",
    "        Mesmenordias= meses[i]\n",
    "print(\"El total pagado en recargos fue de: \", Crecargo)\n",
    "print(\"El mes con menor cantidad de días arrendado fue: \", Mesmenordias, Mndias)\n",
    "print(\"El mes con mayor cantidad de días arrendado fue: \", Mesmayordias , Mydias)\n",
    "print(\"El mes de menos ingresos fue: \", Mesmenoringreso, Menormes)\n",
    "print(\"El mes del mayores ingresos fue: \", Mesmayoringreso, Mayormes)\n",
    "print(\"El total es de: \", total)"
   ]
  },
  {
   "cell_type": "code",
   "execution_count": null,
   "metadata": {},
   "outputs": [],
   "source": []
  }
 ],
 "metadata": {
  "kernelspec": {
   "display_name": "Python 3 (ipykernel)",
   "language": "python",
   "name": "python3"
  },
  "language_info": {
   "codemirror_mode": {
    "name": "ipython",
    "version": 3
   },
   "file_extension": ".py",
   "mimetype": "text/x-python",
   "name": "python",
   "nbconvert_exporter": "python",
   "pygments_lexer": "ipython3",
   "version": "3.9.12"
  }
 },
 "nbformat": 4,
 "nbformat_minor": 4
}
